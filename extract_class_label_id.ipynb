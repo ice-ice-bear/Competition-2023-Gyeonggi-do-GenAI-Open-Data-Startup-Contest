{
 "cells": [
  {
   "cell_type": "code",
   "execution_count": 1,
   "metadata": {},
   "outputs": [
    {
     "name": "stdout",
     "output_type": "stream",
     "text": [
      "Label ID: 56, Label Name: 승용차\n",
      "Label ID: 41, Label Name: 택시\n",
      "Label ID: 57, Label Name: 버스\n",
      "Label ID: 53, Label Name: 표지판\n",
      "Label ID: 39, Label Name: 사람\n",
      "Label ID: 44, Label Name: 신호등\n",
      "Label ID: 40, Label Name: 트럭\n",
      "Label ID: 45, Label Name: 신호등_초록\n",
      "Label ID: 48, Label Name: 신호등_방향표시\n",
      "Label ID: 46, Label Name: 신호등_주황\n",
      "Label ID: 42, Label Name: 오토바이\n",
      "Label ID: 43, Label Name: 자전거\n",
      "Label ID: 47, Label Name: 신호등_빨강\n",
      "Label ID: 58, Label Name: 기타_특수차량\n",
      "Label ID: 50, Label Name: 킥보드\n",
      "Label ID: 52, Label Name: 소방차\n",
      "Label ID: 125, Label Name: Zero shuttle\n",
      "Label ID: 51, Label Name: 구급차\n"
     ]
    }
   ],
   "source": [
    "import os\n",
    "import csv\n",
    "import json\n",
    "import urllib.request\n",
    "\n",
    "\n",
    "def download_json(url):\n",
    "    with urllib.request.urlopen(url) as response:\n",
    "        data = response.read().decode('utf-8')\n",
    "    return data\n",
    "\n",
    "\n",
    "# Read the CSV file\n",
    "csv_file = 'api_data.csv'\n",
    "json_urls = []\n",
    "\n",
    "with open(csv_file, 'r') as file:\n",
    "    reader = csv.DictReader(file)\n",
    "    for row in reader:\n",
    "        json_urls.append((row['file_nm'], row['file_url']))  # Store file_nm along with file_url\n",
    "\n",
    "# Extract label_id and label_name from JSON files\n",
    "label_info = {}  # Dictionary to store label_id and corresponding label_name\n",
    "\n",
    "for file_nm, url in json_urls:\n",
    "    json_data = download_json(url)\n",
    "    data = json.loads(json_data)\n",
    "\n",
    "    annotations = data['annotations']\n",
    "\n",
    "    for annotation in annotations:\n",
    "        label_id = annotation['label_id']\n",
    "        label_name = annotation['label_name']\n",
    "        label_info[label_id] = label_name\n",
    "\n",
    "# Print unique label_id and matching label_name\n",
    "for label_id, label_name in label_info.items():\n",
    "    print(f\"Label ID: {label_id}, Label Name: {label_name}\")\n"
   ]
  }
 ],
 "metadata": {
  "kernelspec": {
   "display_name": "base",
   "language": "python",
   "name": "python3"
  },
  "language_info": {
   "codemirror_mode": {
    "name": "ipython",
    "version": 3
   },
   "file_extension": ".py",
   "mimetype": "text/x-python",
   "name": "python",
   "nbconvert_exporter": "python",
   "pygments_lexer": "ipython3",
   "version": "3.9.13"
  },
  "orig_nbformat": 4
 },
 "nbformat": 4,
 "nbformat_minor": 2
}
